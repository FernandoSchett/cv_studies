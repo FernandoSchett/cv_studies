{
 "cells": [
  {
   "cell_type": "code",
   "execution_count": 1,
   "metadata": {},
   "outputs": [],
   "source": [
    "import cv2\n",
    "import os\n",
    "import matplotlib.pyplot as plt\n",
    "import math\n",
    "import numpy as np\n",
    "\n",
    "from glob import glob\n",
    "\n",
    "from src.image_processor import ImageProcessor"
   ]
  },
  {
   "cell_type": "markdown",
   "metadata": {},
   "source": [
    "# Roteiro I"
   ]
  },
  {
   "cell_type": "code",
   "execution_count": 4,
   "metadata": {},
   "outputs": [],
   "source": [
    "input_directory = 'data/bracs-binary/train'\n",
    "output_directory = './bracs-binary_features/o1_o2'\n",
    "\n",
    "processor = ImageProcessor(input_directory)\n",
    "processor.load_images()\n",
    "\n",
    "# Extração e salvamento das features O1, O2 na pasta especificada\n",
    "processor.gen_o1_o2(output_directory)"
   ]
  },
  {
   "cell_type": "markdown",
   "metadata": {},
   "source": [
    "# Roteiro II"
   ]
  },
  {
   "cell_type": "code",
   "execution_count": 6,
   "metadata": {},
   "outputs": [
    {
     "name": "stdout",
     "output_type": "stream",
     "text": [
      "[[136 136 139 ... 138 132 132]\n",
      " [136 135 136 ... 133 147 151]\n",
      " [137 138 137 ... 157 161 151]\n",
      " ...\n",
      " [146 144 138 ... 149 150 148]\n",
      " [135 134 134 ... 158 147 153]\n",
      " [136 130 129 ... 130 131 131]]\n"
     ]
    }
   ],
   "source": [
    "file_path = \"./bracs-binary_features/o1_o2/o1_o2_BRACS_1643_N_13_original.npy\"\n",
    "data = np.load(file_path)\n",
    "print(data.shape())"
   ]
  },
  {
   "cell_type": "markdown",
   "metadata": {},
   "source": [
    "# Roteiro III"
   ]
  }
 ],
 "metadata": {
  "kernelspec": {
   "display_name": "Python 3",
   "language": "python",
   "name": "python3"
  },
  "language_info": {
   "codemirror_mode": {
    "name": "ipython",
    "version": 3
   },
   "file_extension": ".py",
   "mimetype": "text/x-python",
   "name": "python",
   "nbconvert_exporter": "python",
   "pygments_lexer": "ipython3",
   "version": "3.10.12"
  }
 },
 "nbformat": 4,
 "nbformat_minor": 2
}
